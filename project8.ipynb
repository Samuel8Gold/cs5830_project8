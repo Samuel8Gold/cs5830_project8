{
 "cells": [
  {
   "cell_type": "code",
   "execution_count": 1,
   "id": "0c5caa35",
   "metadata": {},
   "outputs": [],
   "source": [
    "import pandas as pd"
   ]
  },
  {
   "cell_type": "code",
   "execution_count": 2,
   "id": "0c214d16",
   "metadata": {},
   "outputs": [],
   "source": [
    "df = pd.read_csv(\"bank.csv\")\n",
    "df['deposit'] = df['deposit'].map({'no': 0, 'yes': 1})"
   ]
  },
  {
   "cell_type": "markdown",
   "id": "1038615b",
   "metadata": {},
   "source": [
    "## One Hot Encode and Prepare the data"
   ]
  },
  {
   "cell_type": "code",
   "execution_count": 3,
   "id": "401c08dc",
   "metadata": {},
   "outputs": [
    {
     "name": "stdout",
     "output_type": "stream",
     "text": [
      "Original DataFrame:\n",
      "   age         job  marital  education default  balance housing loan  contact  \\\n",
      "0   59      admin.  married  secondary      no     2343     yes   no  unknown   \n",
      "1   56      admin.  married  secondary      no       45      no   no  unknown   \n",
      "2   41  technician  married  secondary      no     1270     yes   no  unknown   \n",
      "3   55    services  married  secondary      no     2476     yes   no  unknown   \n",
      "4   54      admin.  married   tertiary      no      184      no   no  unknown   \n",
      "\n",
      "   day month  duration  campaign  pdays  previous poutcome  deposit  \n",
      "0    5   may      1042         1     -1         0  unknown        1  \n",
      "1    5   may      1467         1     -1         0  unknown        1  \n",
      "2    5   may      1389         1     -1         0  unknown        1  \n",
      "3    5   may       579         1     -1         0  unknown        1  \n",
      "4    5   may       673         2     -1         0  unknown        1  \n",
      "\n",
      "Features DataFrame after one-hot encoding:\n",
      "   age  balance  day  duration  campaign  pdays  previous  job_admin.  \\\n",
      "0   59     2343    5      1042         1     -1         0           1   \n",
      "1   56       45    5      1467         1     -1         0           1   \n",
      "2   41     1270    5      1389         1     -1         0           0   \n",
      "3   55     2476    5       579         1     -1         0           0   \n",
      "4   54      184    5       673         2     -1         0           1   \n",
      "\n",
      "   job_blue-collar  job_entrepreneur  ...  month_jun  month_mar  month_may  \\\n",
      "0                0                 0  ...          0          0          1   \n",
      "1                0                 0  ...          0          0          1   \n",
      "2                0                 0  ...          0          0          1   \n",
      "3                0                 0  ...          0          0          1   \n",
      "4                0                 0  ...          0          0          1   \n",
      "\n",
      "   month_nov  month_oct  month_sep  poutcome_failure  poutcome_other  \\\n",
      "0          0          0          0                 0               0   \n",
      "1          0          0          0                 0               0   \n",
      "2          0          0          0                 0               0   \n",
      "3          0          0          0                 0               0   \n",
      "4          0          0          0                 0               0   \n",
      "\n",
      "   poutcome_success  poutcome_unknown  \n",
      "0                 0                 1  \n",
      "1                 0                 1  \n",
      "2                 0                 1  \n",
      "3                 0                 1  \n",
      "4                 0                 1  \n",
      "\n",
      "[5 rows x 51 columns]\n"
     ]
    }
   ],
   "source": [
    "X = df.drop('deposit', axis=1)  # Drop the target variable to get the features\n",
    "y = df['deposit']  # Select only the target variable\n",
    "\n",
    "# Display the original DataFrame\n",
    "print(\"Original DataFrame:\")\n",
    "print(df.head())\n",
    "\n",
    "# Perform one-hot encoding on the features\n",
    "X = pd.get_dummies(X, dtype=int)\n",
    "\n",
    "# Display the encoded features DataFrame\n",
    "print(\"\\nFeatures DataFrame after one-hot encoding:\")\n",
    "print(X.head())"
   ]
  },
  {
   "cell_type": "code",
   "execution_count": 4,
   "id": "14bc2689",
   "metadata": {},
   "outputs": [],
   "source": [
    "for column in X:\n",
    "    X[column] = (X[column] - X[column].mean()) / X[column].std()"
   ]
  },
  {
   "cell_type": "code",
   "execution_count": 5,
   "id": "344e1874",
   "metadata": {},
   "outputs": [
    {
     "name": "stdout",
     "output_type": "stream",
     "text": [
      "            age   balance       day  duration  campaign     pdays  previous  \\\n",
      "0      1.491438  0.252514 -1.265689  1.930139 -0.554144 -0.481162 -0.363244   \n",
      "1      1.239620 -0.459953 -1.265689  3.154470 -0.554144 -0.481162 -0.363244   \n",
      "2     -0.019470 -0.080157 -1.265689  2.929770 -0.554144 -0.481162 -0.363244   \n",
      "3      1.155681  0.293749 -1.265689  0.596339 -0.554144 -0.481162 -0.363244   \n",
      "4      1.071742 -0.416858 -1.265689  0.867132 -0.186777 -0.481162 -0.363244   \n",
      "...         ...       ...       ...       ...       ...       ...       ...   \n",
      "11157 -0.690984 -0.473595  0.515627 -0.331272 -0.554144 -0.481162 -0.363244   \n",
      "11158 -0.187348 -0.246647  0.040610 -0.832527  0.547956 -0.481162 -0.363244   \n",
      "11159 -0.774923 -0.464914  0.396873 -0.622230 -0.186777 -0.481162 -0.363244   \n",
      "11160  0.148409 -0.473905 -0.909426 -1.045705 -0.186777  1.109521  1.818250   \n",
      "11161 -0.607045 -0.473905 -0.790671  0.737497 -0.554144 -0.481162 -0.363244   \n",
      "\n",
      "       job_admin.  job_blue-collar  job_entrepreneur  ...  month_jun  \\\n",
      "0        2.714158        -0.459209          -0.17399  ...  -0.350609   \n",
      "1        2.714158        -0.459209          -0.17399  ...  -0.350609   \n",
      "2       -0.368405        -0.459209          -0.17399  ...  -0.350609   \n",
      "3       -0.368405        -0.459209          -0.17399  ...  -0.350609   \n",
      "4        2.714158        -0.459209          -0.17399  ...  -0.350609   \n",
      "...           ...              ...               ...  ...        ...   \n",
      "11157   -0.368405         2.177463          -0.17399  ...  -0.350609   \n",
      "11158   -0.368405        -0.459209          -0.17399  ...   2.851925   \n",
      "11159   -0.368405        -0.459209          -0.17399  ...  -0.350609   \n",
      "11160   -0.368405        -0.459209          -0.17399  ...  -0.350609   \n",
      "11161   -0.368405        -0.459209          -0.17399  ...  -0.350609   \n",
      "\n",
      "       month_mar  month_may  month_nov  month_oct  month_sep  \\\n",
      "0      -0.159221   1.718221  -0.303761  -0.190772  -0.171515   \n",
      "1      -0.159221   1.718221  -0.303761  -0.190772  -0.171515   \n",
      "2      -0.159221   1.718221  -0.303761  -0.190772  -0.171515   \n",
      "3      -0.159221   1.718221  -0.303761  -0.190772  -0.171515   \n",
      "4      -0.159221   1.718221  -0.303761  -0.190772  -0.171515   \n",
      "...          ...        ...        ...        ...        ...   \n",
      "11157  -0.159221  -0.581945  -0.303761  -0.190772  -0.171515   \n",
      "11158  -0.159221  -0.581945  -0.303761  -0.190772  -0.171515   \n",
      "11159  -0.159221  -0.581945  -0.303761  -0.190772  -0.171515   \n",
      "11160  -0.159221   1.718221  -0.303761  -0.190772  -0.171515   \n",
      "11161  -0.159221  -0.581945  -0.303761  -0.190772  -0.171515   \n",
      "\n",
      "       poutcome_failure  poutcome_other  poutcome_success  poutcome_unknown  \n",
      "0             -0.351575       -0.224804         -0.325768          0.583600  \n",
      "1             -0.351575       -0.224804         -0.325768          0.583600  \n",
      "2             -0.351575       -0.224804         -0.325768          0.583600  \n",
      "3             -0.351575       -0.224804         -0.325768          0.583600  \n",
      "4             -0.351575       -0.224804         -0.325768          0.583600  \n",
      "...                 ...             ...               ...               ...  \n",
      "11157         -0.351575       -0.224804         -0.325768          0.583600  \n",
      "11158         -0.351575       -0.224804         -0.325768          0.583600  \n",
      "11159         -0.351575       -0.224804         -0.325768          0.583600  \n",
      "11160          2.844091       -0.224804         -0.325768         -1.713348  \n",
      "11161         -0.351575       -0.224804         -0.325768          0.583600  \n",
      "\n",
      "[11162 rows x 51 columns]\n"
     ]
    },
    {
     "ename": "KeyError",
     "evalue": "'deposit'",
     "output_type": "error",
     "traceback": [
      "\u001b[1;31m---------------------------------------------------------------------------\u001b[0m",
      "\u001b[1;31mKeyError\u001b[0m                                  Traceback (most recent call last)",
      "Input \u001b[1;32mIn [5]\u001b[0m, in \u001b[0;36m<cell line: 2>\u001b[1;34m()\u001b[0m\n\u001b[0;32m      1\u001b[0m \u001b[38;5;28mprint\u001b[39m(X)\n\u001b[1;32m----> 2\u001b[0m y[\u001b[38;5;124m\"\u001b[39m\u001b[38;5;124mdeposit\u001b[39m\u001b[38;5;124m\"\u001b[39m] \u001b[38;5;241m=\u001b[39m (\u001b[43my\u001b[49m\u001b[43m[\u001b[49m\u001b[38;5;124;43m\"\u001b[39;49m\u001b[38;5;124;43mdeposit\u001b[39;49m\u001b[38;5;124;43m\"\u001b[39;49m\u001b[43m]\u001b[49m \u001b[38;5;241m-\u001b[39m y[\u001b[38;5;124m\"\u001b[39m\u001b[38;5;124mdeposit\u001b[39m\u001b[38;5;124m\"\u001b[39m]\u001b[38;5;241m.\u001b[39mmean()) \u001b[38;5;241m/\u001b[39m y[\u001b[38;5;124m\"\u001b[39m\u001b[38;5;124mdeposit\u001b[39m\u001b[38;5;124m\"\u001b[39m]\u001b[38;5;241m.\u001b[39mstd()\n\u001b[0;32m      3\u001b[0m \u001b[38;5;28mprint\u001b[39m(y)\n",
      "File \u001b[1;32m~\\anaconda3\\lib\\site-packages\\pandas\\core\\series.py:1007\u001b[0m, in \u001b[0;36mSeries.__getitem__\u001b[1;34m(self, key)\u001b[0m\n\u001b[0;32m   1004\u001b[0m     \u001b[38;5;28;01mreturn\u001b[39;00m \u001b[38;5;28mself\u001b[39m\u001b[38;5;241m.\u001b[39m_values[key]\n\u001b[0;32m   1006\u001b[0m \u001b[38;5;28;01melif\u001b[39;00m key_is_scalar:\n\u001b[1;32m-> 1007\u001b[0m     \u001b[38;5;28;01mreturn\u001b[39;00m \u001b[38;5;28;43mself\u001b[39;49m\u001b[38;5;241;43m.\u001b[39;49m\u001b[43m_get_value\u001b[49m\u001b[43m(\u001b[49m\u001b[43mkey\u001b[49m\u001b[43m)\u001b[49m\n\u001b[0;32m   1009\u001b[0m \u001b[38;5;28;01mif\u001b[39;00m is_hashable(key):\n\u001b[0;32m   1010\u001b[0m     \u001b[38;5;66;03m# Otherwise index.get_value will raise InvalidIndexError\u001b[39;00m\n\u001b[0;32m   1011\u001b[0m     \u001b[38;5;28;01mtry\u001b[39;00m:\n\u001b[0;32m   1012\u001b[0m         \u001b[38;5;66;03m# For labels that don't resolve as scalars like tuples and frozensets\u001b[39;00m\n",
      "File \u001b[1;32m~\\anaconda3\\lib\\site-packages\\pandas\\core\\series.py:1116\u001b[0m, in \u001b[0;36mSeries._get_value\u001b[1;34m(self, label, takeable)\u001b[0m\n\u001b[0;32m   1113\u001b[0m     \u001b[38;5;28;01mreturn\u001b[39;00m \u001b[38;5;28mself\u001b[39m\u001b[38;5;241m.\u001b[39m_values[label]\n\u001b[0;32m   1115\u001b[0m \u001b[38;5;66;03m# Similar to Index.get_value, but we do not fall back to positional\u001b[39;00m\n\u001b[1;32m-> 1116\u001b[0m loc \u001b[38;5;241m=\u001b[39m \u001b[38;5;28;43mself\u001b[39;49m\u001b[38;5;241;43m.\u001b[39;49m\u001b[43mindex\u001b[49m\u001b[38;5;241;43m.\u001b[39;49m\u001b[43mget_loc\u001b[49m\u001b[43m(\u001b[49m\u001b[43mlabel\u001b[49m\u001b[43m)\u001b[49m\n\u001b[0;32m   1118\u001b[0m \u001b[38;5;28;01mif\u001b[39;00m is_integer(loc):\n\u001b[0;32m   1119\u001b[0m     \u001b[38;5;28;01mreturn\u001b[39;00m \u001b[38;5;28mself\u001b[39m\u001b[38;5;241m.\u001b[39m_values[loc]\n",
      "File \u001b[1;32m~\\anaconda3\\lib\\site-packages\\pandas\\core\\indexes\\range.py:349\u001b[0m, in \u001b[0;36mRangeIndex.get_loc\u001b[1;34m(self, key)\u001b[0m\n\u001b[0;32m    347\u001b[0m         \u001b[38;5;28;01mraise\u001b[39;00m \u001b[38;5;167;01mKeyError\u001b[39;00m(key) \u001b[38;5;28;01mfrom\u001b[39;00m \u001b[38;5;21;01merr\u001b[39;00m\n\u001b[0;32m    348\u001b[0m \u001b[38;5;28;01mif\u001b[39;00m \u001b[38;5;28misinstance\u001b[39m(key, Hashable):\n\u001b[1;32m--> 349\u001b[0m     \u001b[38;5;28;01mraise\u001b[39;00m \u001b[38;5;167;01mKeyError\u001b[39;00m(key)\n\u001b[0;32m    350\u001b[0m \u001b[38;5;28mself\u001b[39m\u001b[38;5;241m.\u001b[39m_check_indexing_error(key)\n\u001b[0;32m    351\u001b[0m \u001b[38;5;28;01mraise\u001b[39;00m \u001b[38;5;167;01mKeyError\u001b[39;00m(key)\n",
      "\u001b[1;31mKeyError\u001b[0m: 'deposit'"
     ]
    }
   ],
   "source": [
    "print(X)\n",
    "y[\"deposit\"] = (y[\"deposit\"] - y[\"deposit\"].mean()) / y[\"deposit\"].std()\n",
    "print(y)"
   ]
  },
  {
   "cell_type": "code",
   "execution_count": null,
   "id": "e4c464b2",
   "metadata": {},
   "outputs": [],
   "source": []
  }
 ],
 "metadata": {
  "kernelspec": {
   "display_name": "Python 3 (ipykernel)",
   "language": "python",
   "name": "python3"
  },
  "language_info": {
   "codemirror_mode": {
    "name": "ipython",
    "version": 3
   },
   "file_extension": ".py",
   "mimetype": "text/x-python",
   "name": "python",
   "nbconvert_exporter": "python",
   "pygments_lexer": "ipython3",
   "version": "3.9.12"
  }
 },
 "nbformat": 4,
 "nbformat_minor": 5
}
