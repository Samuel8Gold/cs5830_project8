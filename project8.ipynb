{
 "cells": [
  {
   "cell_type": "code",
   "execution_count": 1,
   "id": "babc57da",
   "metadata": {},
   "outputs": [],
   "source": [
    "import pandas as pd"
   ]
  },
  {
   "cell_type": "code",
   "execution_count": 2,
   "id": "974a3658",
   "metadata": {},
   "outputs": [],
   "source": [
    "df = pd.read_csv(\"bank.csv\")\n",
    "df['deposit'] = df['deposit'].map({'no': 0, 'yes': 1})"
   ]
  },
  {
   "cell_type": "markdown",
   "id": "d104d276",
   "metadata": {},
   "source": [
    "## One Hot Encode and Prepare the data"
   ]
  },
  {
   "cell_type": "code",
   "execution_count": 3,
   "id": "fcfd5c28",
   "metadata": {},
   "outputs": [
    {
     "name": "stdout",
     "output_type": "stream",
     "text": [
      "Original DataFrame:\n",
      "   age         job  marital  education default  balance housing loan  contact  \\\n",
      "0   59      admin.  married  secondary      no     2343     yes   no  unknown   \n",
      "1   56      admin.  married  secondary      no       45      no   no  unknown   \n",
      "2   41  technician  married  secondary      no     1270     yes   no  unknown   \n",
      "3   55    services  married  secondary      no     2476     yes   no  unknown   \n",
      "4   54      admin.  married   tertiary      no      184      no   no  unknown   \n",
      "\n",
      "   day month  duration  campaign  pdays  previous poutcome  deposit  \n",
      "0    5   may      1042         1     -1         0  unknown        1  \n",
      "1    5   may      1467         1     -1         0  unknown        1  \n",
      "2    5   may      1389         1     -1         0  unknown        1  \n",
      "3    5   may       579         1     -1         0  unknown        1  \n",
      "4    5   may       673         2     -1         0  unknown        1  \n",
      "\n",
      "Features DataFrame after one-hot encoding:\n",
      "   age  balance  day  duration  campaign  pdays  previous  job_admin.  \\\n",
      "0   59     2343    5      1042         1     -1         0           1   \n",
      "1   56       45    5      1467         1     -1         0           1   \n",
      "2   41     1270    5      1389         1     -1         0           0   \n",
      "3   55     2476    5       579         1     -1         0           0   \n",
      "4   54      184    5       673         2     -1         0           1   \n",
      "\n",
      "   job_blue-collar  job_entrepreneur  ...  month_jun  month_mar  month_may  \\\n",
      "0                0                 0  ...          0          0          1   \n",
      "1                0                 0  ...          0          0          1   \n",
      "2                0                 0  ...          0          0          1   \n",
      "3                0                 0  ...          0          0          1   \n",
      "4                0                 0  ...          0          0          1   \n",
      "\n",
      "   month_nov  month_oct  month_sep  poutcome_failure  poutcome_other  \\\n",
      "0          0          0          0                 0               0   \n",
      "1          0          0          0                 0               0   \n",
      "2          0          0          0                 0               0   \n",
      "3          0          0          0                 0               0   \n",
      "4          0          0          0                 0               0   \n",
      "\n",
      "   poutcome_success  poutcome_unknown  \n",
      "0                 0                 1  \n",
      "1                 0                 1  \n",
      "2                 0                 1  \n",
      "3                 0                 1  \n",
      "4                 0                 1  \n",
      "\n",
      "[5 rows x 51 columns]\n"
     ]
    }
   ],
   "source": [
    "X = df.drop('deposit', axis=1)  # Drop the target variable to get the features\n",
    "y = df['deposit']  # Select only the target variable\n",
    "\n",
    "# Display the original DataFrame\n",
    "print(\"Original DataFrame:\")\n",
    "print(df.head())\n",
    "\n",
    "# Perform one-hot encoding on the features\n",
    "X = pd.get_dummies(X, dtype=int)\n",
    "\n",
    "# Display the encoded features DataFrame\n",
    "print(\"\\nFeatures DataFrame after one-hot encoding:\")\n",
    "print(X.head())"
   ]
  },
  {
   "cell_type": "code",
   "execution_count": 4,
   "id": "b33241e8",
   "metadata": {},
   "outputs": [],
   "source": [
    "for column in X:\n",
    "    X[column] = (X[column] - X[column].mean()) / X[column].std()"
   ]
  },
  {
   "cell_type": "code",
   "execution_count": 7,
   "id": "53da5dc9",
   "metadata": {},
   "outputs": [
    {
     "name": "stdout",
     "output_type": "stream",
     "text": [
      "The features (i.e., the X variable) is now set up             age   balance       day  duration  campaign     pdays  previous  \\\n",
      "0      1.491438  0.252514 -1.265689  1.930139 -0.554144 -0.481162 -0.363244   \n",
      "1      1.239620 -0.459953 -1.265689  3.154470 -0.554144 -0.481162 -0.363244   \n",
      "2     -0.019470 -0.080157 -1.265689  2.929770 -0.554144 -0.481162 -0.363244   \n",
      "3      1.155681  0.293749 -1.265689  0.596339 -0.554144 -0.481162 -0.363244   \n",
      "4      1.071742 -0.416858 -1.265689  0.867132 -0.186777 -0.481162 -0.363244   \n",
      "...         ...       ...       ...       ...       ...       ...       ...   \n",
      "11157 -0.690984 -0.473595  0.515627 -0.331272 -0.554144 -0.481162 -0.363244   \n",
      "11158 -0.187348 -0.246647  0.040610 -0.832527  0.547956 -0.481162 -0.363244   \n",
      "11159 -0.774923 -0.464914  0.396873 -0.622230 -0.186777 -0.481162 -0.363244   \n",
      "11160  0.148409 -0.473905 -0.909426 -1.045705 -0.186777  1.109521  1.818250   \n",
      "11161 -0.607045 -0.473905 -0.790671  0.737497 -0.554144 -0.481162 -0.363244   \n",
      "\n",
      "       job_admin.  job_blue-collar  job_entrepreneur  ...  month_jun  \\\n",
      "0        2.714158        -0.459209          -0.17399  ...  -0.350609   \n",
      "1        2.714158        -0.459209          -0.17399  ...  -0.350609   \n",
      "2       -0.368405        -0.459209          -0.17399  ...  -0.350609   \n",
      "3       -0.368405        -0.459209          -0.17399  ...  -0.350609   \n",
      "4        2.714158        -0.459209          -0.17399  ...  -0.350609   \n",
      "...           ...              ...               ...  ...        ...   \n",
      "11157   -0.368405         2.177463          -0.17399  ...  -0.350609   \n",
      "11158   -0.368405        -0.459209          -0.17399  ...   2.851925   \n",
      "11159   -0.368405        -0.459209          -0.17399  ...  -0.350609   \n",
      "11160   -0.368405        -0.459209          -0.17399  ...  -0.350609   \n",
      "11161   -0.368405        -0.459209          -0.17399  ...  -0.350609   \n",
      "\n",
      "       month_mar  month_may  month_nov  month_oct  month_sep  \\\n",
      "0      -0.159221   1.718221  -0.303761  -0.190772  -0.171515   \n",
      "1      -0.159221   1.718221  -0.303761  -0.190772  -0.171515   \n",
      "2      -0.159221   1.718221  -0.303761  -0.190772  -0.171515   \n",
      "3      -0.159221   1.718221  -0.303761  -0.190772  -0.171515   \n",
      "4      -0.159221   1.718221  -0.303761  -0.190772  -0.171515   \n",
      "...          ...        ...        ...        ...        ...   \n",
      "11157  -0.159221  -0.581945  -0.303761  -0.190772  -0.171515   \n",
      "11158  -0.159221  -0.581945  -0.303761  -0.190772  -0.171515   \n",
      "11159  -0.159221  -0.581945  -0.303761  -0.190772  -0.171515   \n",
      "11160  -0.159221   1.718221  -0.303761  -0.190772  -0.171515   \n",
      "11161  -0.159221  -0.581945  -0.303761  -0.190772  -0.171515   \n",
      "\n",
      "       poutcome_failure  poutcome_other  poutcome_success  poutcome_unknown  \n",
      "0             -0.351575       -0.224804         -0.325768          0.583600  \n",
      "1             -0.351575       -0.224804         -0.325768          0.583600  \n",
      "2             -0.351575       -0.224804         -0.325768          0.583600  \n",
      "3             -0.351575       -0.224804         -0.325768          0.583600  \n",
      "4             -0.351575       -0.224804         -0.325768          0.583600  \n",
      "...                 ...             ...               ...               ...  \n",
      "11157         -0.351575       -0.224804         -0.325768          0.583600  \n",
      "11158         -0.351575       -0.224804         -0.325768          0.583600  \n",
      "11159         -0.351575       -0.224804         -0.325768          0.583600  \n",
      "11160          2.844091       -0.224804         -0.325768         -1.713348  \n",
      "11161         -0.351575       -0.224804         -0.325768          0.583600  \n",
      "\n",
      "[11162 rows x 51 columns]\n",
      "The y variable is now set 0        1\n",
      "1        1\n",
      "2        1\n",
      "3        1\n",
      "4        1\n",
      "        ..\n",
      "11157    0\n",
      "11158    0\n",
      "11159    0\n",
      "11160    0\n",
      "11161    0\n",
      "Name: deposit, Length: 11162, dtype: int64\n"
     ]
    }
   ],
   "source": [
    "print(\"The features (i.e., the X variable) is now set up\", X)\n",
    "print(\"The y variable is now set\", y)"
   ]
  },
  {
   "cell_type": "code",
   "execution_count": null,
   "id": "1885eba9",
   "metadata": {},
   "outputs": [],
   "source": []
  },
  {
   "cell_type": "code",
   "execution_count": null,
   "id": "fa123c3b",
   "metadata": {},
   "outputs": [],
   "source": []
  }
 ],
 "metadata": {
  "kernelspec": {
   "display_name": "Python 3 (ipykernel)",
   "language": "python",
   "name": "python3"
  },
  "language_info": {
   "codemirror_mode": {
    "name": "ipython",
    "version": 3
   },
   "file_extension": ".py",
   "mimetype": "text/x-python",
   "name": "python",
   "nbconvert_exporter": "python",
   "pygments_lexer": "ipython3",
   "version": "3.9.12"
  }
 },
 "nbformat": 4,
 "nbformat_minor": 5
}
