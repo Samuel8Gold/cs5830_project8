{
 "cells": [
  {
   "cell_type": "code",
   "execution_count": null,
   "id": "2c374e20",
   "metadata": {
    "scrolled": true
   },
   "outputs": [],
   "source": [
    "import pandas as pd\n",
    "import numpy as np\n",
    "from sklearn.neighbors import NearestNeighbors\n",
    "import random\n",
    "from sklearn.tree import export_graphviz\n",
    "from IPython.display import SVG\n",
    "\n",
    "# You may need to install the Python graphviz library. At the command line:\n",
    "#   pip install graphviz\n",
    "# You will also need to install the graphviz executables. You can use apt,\n",
    "# macports, or other installer for your system.\n",
    "from graphviz import Source\n",
    "\n",
    "import matplotlib.pyplot as plt"
   ]
  },
  {
   "cell_type": "code",
   "execution_count": null,
   "id": "9c685e93",
   "metadata": {},
   "outputs": [],
   "source": [
    "df = pd.read_csv(\"bank.csv\")\n",
    "df['deposit'] = df['deposit'].map({'no': 0, 'yes': 1})"
   ]
  },
  {
   "cell_type": "markdown",
   "id": "b464c9d8",
   "metadata": {},
   "source": [
    "## One Hot Encode and Prepare the data"
   ]
  },
  {
   "cell_type": "code",
   "execution_count": null,
   "id": "0a8a6d4f",
   "metadata": {},
   "outputs": [],
   "source": [
    "X = df.drop('deposit', axis=1)  # Drop the target variable to get the features\n",
    "y = df['deposit']  # Select only the target variable\n",
    "\n",
    "# Display the original DataFrame\n",
    "# print(\"Original DataFrame:\")\n",
    "# print(df.head())\n",
    "display(X.columns)\n",
    "display(X.head())\n",
    "\n",
    "# Perform one-hot encoding on the features\n",
    "X = pd.get_dummies(X, dtype=int)\n",
    "\n",
    "# campaign is a categorical variable, so we need to perform one-hot encoding on it\n",
    "campaign = pd.get_dummies(X.campaign, prefix='campaign', dtype=int)\n",
    "dropped = X.drop('campaign', axis=1)\n",
    "\n",
    "# combine the one-hot encoded campaign with the original features\n",
    "X = pd.concat([dropped, campaign], axis=1)\n",
    "continuous_features = X[['age','balance', 'day', 'duration', 'pdays']]\n",
    "\n",
    "for column in continuous_features:\n",
    "    X[column] = (X[column] - X[column].mean()) / X[column].std()\n",
    "\n",
    "X.head()"
   ]
  },
  {
   "cell_type": "code",
   "execution_count": null,
   "id": "a286a52a",
   "metadata": {},
   "outputs": [],
   "source": [
    "for column in X:\n",
    "    X[column] = (X[column] - X[column].mean()) / X[column].std()"
   ]
  },
  {
   "cell_type": "code",
   "execution_count": null,
   "id": "0ccbe294",
   "metadata": {},
   "outputs": [],
   "source": [
    "print(\"The features (i.e., the X variable) is now set up\", X)\n",
    "print(\"The y variable is now set\", y)"
   ]
  },
  {
   "cell_type": "code",
   "execution_count": null,
   "id": "fe608e0c",
   "metadata": {},
   "outputs": [],
   "source": [
    "print(X.columns)"
   ]
  },
  {
   "cell_type": "code",
   "execution_count": null,
   "id": "997e56d4",
   "metadata": {},
   "outputs": [],
   "source": [
    "from sklearn.tree import DecisionTreeClassifier\n",
    "from sklearn import tree\n",
    "treeclf = DecisionTreeClassifier(max_depth=3, random_state=1)\n",
    "treeclf.fit(X.values, y)"
   ]
  },
  {
   "cell_type": "code",
   "execution_count": null,
   "id": "69ea3039",
   "metadata": {},
   "outputs": [],
   "source": [
    "classNames = y.unique().astype(str)\n",
    "print(class_names)\n",
    "dot = tree.export_graphviz(treeclf, out_file=None,\n",
    "                           feature_names=X.columns,\n",
    "                           class_names=classNames, \n",
    "                           filled = True)\n",
    "\n",
    "# output dot code to copy/paste into https://dreampuf.github.io/GraphvizOnline\n",
    "# print(dot)\n",
    "\n",
    "# display the graph here\n",
    "graph = Source(dot)\n",
    "svg = SVG(graph.pipe(format='svg'))\n",
    "display(svg)"
   ]
  },
  {
   "cell_type": "code",
   "execution_count": null,
   "id": "e1a55152",
   "metadata": {},
   "outputs": [],
   "source": [
    "treeclf = DecisionTreeClassifier(max_depth=5, random_state=1)\n",
    "treeclf.fit(X.values, y)\n",
    "classNames = y.unique().astype(str)\n",
    "print(class_names)\n",
    "dot = tree.export_graphviz(treeclf, out_file=None,\n",
    "                           feature_names=X.columns,\n",
    "                           class_names=classNames, \n",
    "                           filled = True)\n",
    "\n",
    "# output dot code to copy/paste into https://dreampuf.github.io/GraphvizOnline\n",
    "# print(dot)\n",
    "\n",
    "# display the graph here\n",
    "graph = Source(dot)\n",
    "svg = SVG(graph.pipe(format='svg'))\n",
    "display(svg)"
   ]
  },
  {
   "cell_type": "code",
   "execution_count": null,
   "id": "6c5c49b8",
   "metadata": {},
   "outputs": [],
   "source": []
  }
 ],
 "metadata": {
  "kernelspec": {
   "display_name": "Python 3 (ipykernel)",
   "language": "python",
   "name": "python3"
  },
  "language_info": {
   "codemirror_mode": {
    "name": "ipython",
    "version": 3
   },
   "file_extension": ".py",
   "mimetype": "text/x-python",
   "name": "python",
   "nbconvert_exporter": "python",
   "pygments_lexer": "ipython3",
   "version": "3.9.12"
  }
 },
 "nbformat": 4,
 "nbformat_minor": 5
}
