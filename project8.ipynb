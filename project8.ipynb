{
 "cells": [
  {
   "cell_type": "code",
   "execution_count": 1,
   "id": "0dfaaad4",
   "metadata": {},
   "outputs": [],
   "source": [
    "import pandas as pd"
   ]
  },
  {
   "cell_type": "code",
   "execution_count": 2,
   "id": "a4d7659e",
   "metadata": {},
   "outputs": [],
   "source": [
    "df = pd.read_csv(\"bank.csv\")"
   ]
  },
  {
   "cell_type": "code",
   "execution_count": 3,
   "id": "dbf3cfe5",
   "metadata": {},
   "outputs": [
    {
     "name": "stdout",
     "output_type": "stream",
     "text": [
      "       age          job  marital  education default  balance housing loan  \\\n",
      "0       59       admin.  married  secondary      no     2343     yes   no   \n",
      "1       56       admin.  married  secondary      no       45      no   no   \n",
      "2       41   technician  married  secondary      no     1270     yes   no   \n",
      "3       55     services  married  secondary      no     2476     yes   no   \n",
      "4       54       admin.  married   tertiary      no      184      no   no   \n",
      "...    ...          ...      ...        ...     ...      ...     ...  ...   \n",
      "11157   33  blue-collar   single    primary      no        1     yes   no   \n",
      "11158   39     services  married  secondary      no      733      no   no   \n",
      "11159   32   technician   single  secondary      no       29      no   no   \n",
      "11160   43   technician  married  secondary      no        0      no  yes   \n",
      "11161   34   technician  married  secondary      no        0      no   no   \n",
      "\n",
      "        contact  day month  duration  campaign  pdays  previous poutcome  \\\n",
      "0       unknown    5   may      1042         1     -1         0  unknown   \n",
      "1       unknown    5   may      1467         1     -1         0  unknown   \n",
      "2       unknown    5   may      1389         1     -1         0  unknown   \n",
      "3       unknown    5   may       579         1     -1         0  unknown   \n",
      "4       unknown    5   may       673         2     -1         0  unknown   \n",
      "...         ...  ...   ...       ...       ...    ...       ...      ...   \n",
      "11157  cellular   20   apr       257         1     -1         0  unknown   \n",
      "11158   unknown   16   jun        83         4     -1         0  unknown   \n",
      "11159  cellular   19   aug       156         2     -1         0  unknown   \n",
      "11160  cellular    8   may         9         2    172         5  failure   \n",
      "11161  cellular    9   jul       628         1     -1         0  unknown   \n",
      "\n",
      "      deposit  \n",
      "0         yes  \n",
      "1         yes  \n",
      "2         yes  \n",
      "3         yes  \n",
      "4         yes  \n",
      "...       ...  \n",
      "11157      no  \n",
      "11158      no  \n",
      "11159      no  \n",
      "11160      no  \n",
      "11161      no  \n",
      "\n",
      "[11162 rows x 17 columns]\n",
      "\n",
      "DataFrame after one-hot encoding:\n",
      "   age  balance  day  duration  campaign  pdays  previous  job_admin.  \\\n",
      "0   59     2343    5      1042         1     -1         0        True   \n",
      "1   56       45    5      1467         1     -1         0        True   \n",
      "2   41     1270    5      1389         1     -1         0       False   \n",
      "3   55     2476    5       579         1     -1         0       False   \n",
      "4   54      184    5       673         2     -1         0        True   \n",
      "\n",
      "   job_blue-collar  job_entrepreneur  ...  month_may  month_nov  month_oct  \\\n",
      "0            False             False  ...       True      False      False   \n",
      "1            False             False  ...       True      False      False   \n",
      "2            False             False  ...       True      False      False   \n",
      "3            False             False  ...       True      False      False   \n",
      "4            False             False  ...       True      False      False   \n",
      "\n",
      "   month_sep  poutcome_failure  poutcome_other  poutcome_success  \\\n",
      "0      False             False           False             False   \n",
      "1      False             False           False             False   \n",
      "2      False             False           False             False   \n",
      "3      False             False           False             False   \n",
      "4      False             False           False             False   \n",
      "\n",
      "   poutcome_unknown  deposit_no  deposit_yes  \n",
      "0              True       False         True  \n",
      "1              True       False         True  \n",
      "2              True       False         True  \n",
      "3              True       False         True  \n",
      "4              True       False         True  \n",
      "\n",
      "[5 rows x 53 columns]\n"
     ]
    }
   ],
   "source": [
    "print(df)\n",
    "# Perform one-hot encoding\n",
    "df_encoded = pd.get_dummies(df)\n",
    "\n",
    "# Display the encoded DataFrame\n",
    "print(\"\\nDataFrame after one-hot encoding:\")\n",
    "print(df_encoded.head())"
   ]
  },
  {
   "cell_type": "code",
   "execution_count": null,
   "id": "05828bfd",
   "metadata": {},
   "outputs": [],
   "source": []
  }
 ],
 "metadata": {
  "kernelspec": {
   "display_name": "Python 3 (ipykernel)",
   "language": "python",
   "name": "python3"
  },
  "language_info": {
   "codemirror_mode": {
    "name": "ipython",
    "version": 3
   },
   "file_extension": ".py",
   "mimetype": "text/x-python",
   "name": "python",
   "nbconvert_exporter": "python",
   "pygments_lexer": "ipython3",
   "version": "3.9.12"
  }
 },
 "nbformat": 4,
 "nbformat_minor": 5
}
