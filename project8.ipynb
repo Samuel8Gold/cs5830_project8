{
 "cells": [
  {
   "cell_type": "code",
   "execution_count": null,
   "id": "2c374e20",
   "metadata": {
    "scrolled": true
   },
   "outputs": [],
   "source": [
    "import pandas as pd\n",
    "import numpy as np\n",
    "from sklearn.neighbors import NearestNeighbors\n",
    "import random\n",
    "from sklearn.tree import export_graphviz\n",
    "from IPython.display import SVG\n",
    "\n",
    "# You may need to install the Python graphviz library. At the command line:\n",
    "#   pip install graphviz\n",
    "# You will also need to install the graphviz executables. You can use apt,\n",
    "# macports, or other installer for your system.\n",
    "from graphviz import Source\n",
    "\n",
    "import matplotlib.pyplot as plt\n",
    "import seaborn as sns"
   ]
  },
  {
   "cell_type": "code",
   "execution_count": null,
   "id": "9c685e93",
   "metadata": {},
   "outputs": [],
   "source": [
    "df = pd.read_csv(\"bank.csv\")\n",
    "df['deposit'] = df['deposit'].map({'no': 0, 'yes': 1})"
   ]
  },
  {
   "cell_type": "markdown",
   "id": "94ff47d9",
   "metadata": {},
   "source": [
    "## Is there something wrong with Month??"
   ]
  },
  {
   "cell_type": "code",
   "execution_count": null,
   "id": "88165c5d",
   "metadata": {},
   "outputs": [],
   "source": [
    "# List of months\n",
    "months = ['jan', 'feb', 'mar', 'apr', 'may', 'jun', 'jul', 'aug', 'sep', 'oct', 'nov', 'dec']\n",
    "\n",
    "# Iterate over each month\n",
    "for month in months:\n",
    "    # Create a new column for each month, named as 'month_<month>'\n",
    "    df['month_' + month] = df['month'].apply(lambda x: 1 if x.lower() == month else 0)\n",
    "\n",
    "# Drop the original 'month' column\n",
    "df.drop(columns=[\"month\"], inplace=True)\n",
    "\n",
    "for val in df[\"month_mar\"].unique():\n",
    "    print(val)"
   ]
  },
  {
   "cell_type": "markdown",
   "id": "f88ca416",
   "metadata": {},
   "source": [
    "## Handle Binary Features"
   ]
  },
  {
   "cell_type": "code",
   "execution_count": null,
   "id": "992225c9",
   "metadata": {},
   "outputs": [],
   "source": [
    "df['default'] = df['default'].map({'no': 0, 'yes': 1})\n",
    "df['housing'] = df['housing'].map({'no': 0, 'yes': 1})\n",
    "df['loan'] = df['loan'].map({'no': 0, 'yes': 1})"
   ]
  },
  {
   "cell_type": "markdown",
   "id": "b464c9d8",
   "metadata": {},
   "source": [
    "## One Hot Encode and Prepare the data"
   ]
  },
  {
   "cell_type": "code",
   "execution_count": null,
   "id": "0a8a6d4f",
   "metadata": {},
   "outputs": [],
   "source": [
    "X = df.drop('deposit', axis=1)  # Drop the target variable to get the features\n",
    "y = df['deposit']  # Select only the target variable\n",
    "\n",
    "# Display the original DataFrame\n",
    "# print(\"Original DataFrame:\")\n",
    "# print(df.head())\n",
    "display(X.columns)\n",
    "display(X.head())\n",
    "\n",
    "# Perform one-hot encoding on the features\n",
    "X = pd.get_dummies(X, dtype=int)\n",
    "\n",
    "# campaign is a categorical variable, so we need to perform one-hot encoding on it\n",
    "campaign = pd.get_dummies(X.campaign, prefix='campaign', dtype=int)\n",
    "dropped = X.drop('campaign', axis=1)\n",
    "\n",
    "# combine the one-hot encoded campaign with the original features\n",
    "X = pd.concat([dropped, campaign], axis=1)\n",
    "continuous_features = X[['age','balance', 'day', 'duration', 'pdays']]\n",
    "\n",
    "for column in continuous_features:\n",
    "    X[column] = (X[column] - X[column].mean()) / X[column].std()\n",
    "\n",
    "X.head()"
   ]
  },
  {
   "cell_type": "code",
   "execution_count": null,
   "id": "fe608e0c",
   "metadata": {},
   "outputs": [],
   "source": [
    "print(X.columns)"
   ]
  },
  {
   "cell_type": "code",
   "execution_count": null,
   "id": "ac1057be",
   "metadata": {},
   "outputs": [],
   "source": []
  },
  {
   "cell_type": "code",
   "execution_count": null,
   "id": "997e56d4",
   "metadata": {},
   "outputs": [],
   "source": [
    "from sklearn.tree import DecisionTreeClassifier\n",
    "from sklearn import tree\n",
    "treeclf = DecisionTreeClassifier(max_depth=3, random_state=1)\n",
    "treeclf.fit(X.values, y)"
   ]
  },
  {
   "cell_type": "markdown",
   "id": "b3e8bc05",
   "metadata": {},
   "source": [
    "## Is there something wrong with march?"
   ]
  },
  {
   "cell_type": "code",
   "execution_count": null,
   "id": "ef55aa36",
   "metadata": {},
   "outputs": [],
   "source": [
    "for val in X[\"month_mar\"].unique():\n",
    "    print(val)"
   ]
  },
  {
   "cell_type": "code",
   "execution_count": null,
   "id": "69ea3039",
   "metadata": {},
   "outputs": [],
   "source": [
    "classNames = y.unique().astype(str)\n",
    "dot = tree.export_graphviz(treeclf, out_file=None,\n",
    "                           feature_names=X.columns,\n",
    "                           class_names=classNames, \n",
    "                           filled = True)\n",
    "# display the graph here\n",
    "graph = Source(dot)\n",
    "svg = SVG(graph.pipe(format='svg'))\n",
    "display(svg)"
   ]
  },
  {
   "cell_type": "code",
   "execution_count": null,
   "id": "e1a55152",
   "metadata": {
    "scrolled": true
   },
   "outputs": [],
   "source": [
    "treeclf = DecisionTreeClassifier(max_depth=2, random_state=1)\n",
    "treeclf.fit(X.values, y)\n",
    "classNames = y.unique().astype(str)\n",
    "dot = tree.export_graphviz(treeclf, out_file=None,\n",
    "                           feature_names=X.columns,\n",
    "                           class_names=classNames, \n",
    "                           filled = True)\n",
    "# display the graph here\n",
    "graph = Source(dot)\n",
    "svg = SVG(graph.pipe(format='svg'))\n",
    "display(svg)"
   ]
  },
  {
   "cell_type": "code",
   "execution_count": null,
   "id": "7c63f386",
   "metadata": {},
   "outputs": [],
   "source": [
    "treeclf = DecisionTreeClassifier(max_depth=4, random_state=1)\n",
    "treeclf.fit(X.values, y)\n",
    "classNames = y.unique().astype(str)\n",
    "dot = tree.export_graphviz(treeclf, out_file=None,\n",
    "                           feature_names=X.columns,\n",
    "                           class_names=classNames, \n",
    "                           filled = True)\n",
    "# display the graph here\n",
    "graph = Source(dot)\n",
    "svg = SVG(graph.pipe(format='svg'))\n",
    "display(svg)"
   ]
  },
  {
   "cell_type": "markdown",
   "id": "1ff320fa",
   "metadata": {},
   "source": [
    "## Visualize the output"
   ]
  },
  {
   "cell_type": "code",
   "execution_count": null,
   "id": "63b8b24c",
   "metadata": {},
   "outputs": [],
   "source": [
    "target_variable = 'deposit'\n",
    "# Plot scatter plots for each continuous feature\n",
    "for feature in continuous_features:\n",
    "    plt.figure(figsize=(8, 6))\n",
    "    plt.scatter(X[feature], y, alpha=0.5)\n",
    "    plt.title(f'Scatter Plot of {feature} vs {target_variable}')\n",
    "    plt.xlabel(feature)\n",
    "    plt.ylabel(target_variable)\n",
    "    plt.grid(True)\n",
    "    plt.show()"
   ]
  },
  {
   "cell_type": "code",
   "execution_count": null,
   "id": "3d1abc2b",
   "metadata": {},
   "outputs": [],
   "source": [
    "df = pd.concat([X, y], axis=1)\n",
    "corr_matrix = df.corr()\n",
    "\n",
    "# Plot heatmap\n",
    "plt.figure(figsize=(10, 8))\n",
    "sns.heatmap(corr_matrix, annot=True, cmap='coolwarm', fmt=\".2f\", annot_kws={\"size\": 10})\n",
    "plt.title('Correlation Heatmap of All Columns In Dataframe')\n",
    "plt.show()"
   ]
  },
  {
   "cell_type": "markdown",
   "id": "c47cb32d",
   "metadata": {},
   "source": [
    "## Remove lots of features that aren't in the decision tree to help when I want to regraph the heatmap"
   ]
  },
  {
   "cell_type": "code",
   "execution_count": null,
   "id": "20d2ee0e",
   "metadata": {},
   "outputs": [],
   "source": [
    "# Get a list of column names starting with \"campaign_\"\n",
    "campaign_columns = df.filter(regex='^campaign_', axis=1).columns\n",
    "\n",
    "# Drop the campaign columns from the DataFrame\n",
    "df = df.drop(campaign_columns, axis=1)\n",
    "\n",
    "# Get a list of column names starting with \"job_\"\n",
    "job_columns = df.filter(regex='^job_', axis=1).columns\n",
    "\n",
    "# Drop the job columns from the DataFrame\n",
    "df = df.drop(job_columns, axis=1)"
   ]
  },
  {
   "cell_type": "code",
   "execution_count": null,
   "id": "29334d67",
   "metadata": {},
   "outputs": [],
   "source": [
    "corr_matrix = df.corr()\n",
    "\n",
    "# Plot heatmap\n",
    "plt.figure(figsize=(10, 8))\n",
    "sns.heatmap(corr_matrix, annot=True, cmap='coolwarm', fmt=\".2f\", annot_kws={\"size\": 10})\n",
    "plt.title('Correlation Heatmap of All Columns In Dataframe')\n",
    "plt.show()"
   ]
  },
  {
   "cell_type": "markdown",
   "id": "d057fdd2",
   "metadata": {},
   "source": [
    "## Make a Heatmap of just the months compared with the target variable"
   ]
  },
  {
   "cell_type": "code",
   "execution_count": null,
   "id": "945e3522",
   "metadata": {},
   "outputs": [],
   "source": [
    "# Get a list of column names starting with \"month_\"\n",
    "month_columns = df.filter(regex='^month_', axis=1).columns\n",
    "\n",
    "# Extract the target variable \"deposit\" along with the month columns\n",
    "heatmap_df = df[['deposit'] + list(month_columns)]\n",
    "\n",
    "# Calculate the correlation matrix\n",
    "correlation_matrix = heatmap_df.corr()\n",
    "\n",
    "# Plot the heatmap\n",
    "plt.figure(figsize=(10, 8))\n",
    "sns.heatmap(correlation_matrix, annot=True, cmap='coolwarm', fmt=\".2f\")\n",
    "plt.title('Correlation Heatmap of \"deposit\" and \"month_\" Columns')\n",
    "plt.show()"
   ]
  },
  {
   "cell_type": "markdown",
   "id": "9e38d81c",
   "metadata": {},
   "source": [
    "## Visualize The Months Correlations With Deposit"
   ]
  },
  {
   "cell_type": "code",
   "execution_count": null,
   "id": "7739b110",
   "metadata": {},
   "outputs": [],
   "source": [
    "for val in X[\"month_mar\"]:\n",
    "    print(val)"
   ]
  },
  {
   "cell_type": "code",
   "execution_count": null,
   "id": "5877f408",
   "metadata": {},
   "outputs": [],
   "source": [
    "# Get a list of column names starting with \"month_\"\n",
    "month_columns = df.filter(regex='^month_', axis=1).columns\n",
    "\n",
    "# Drop the month columns from the DataFrame\n",
    "df = df.drop(month_columns, axis=1)"
   ]
  },
  {
   "cell_type": "code",
   "execution_count": null,
   "id": "3a1d2824",
   "metadata": {},
   "outputs": [],
   "source": [
    "corr_matrix = df.corr()\n",
    "\n",
    "# Plot heatmap\n",
    "plt.figure(figsize=(10, 8))\n",
    "sns.heatmap(corr_matrix, annot=True, cmap='coolwarm', fmt=\".2f\", annot_kws={\"size\": 10})\n",
    "plt.title('Correlation Heatmap of All Columns In Dataframe')\n",
    "plt.show()"
   ]
  },
  {
   "cell_type": "markdown",
   "id": "6f8116f0",
   "metadata": {},
   "source": [
    "## Make a heatmap to show the different continuous features coorelations to the target variable"
   ]
  },
  {
   "cell_type": "code",
   "execution_count": null,
   "id": "3d5bbea0",
   "metadata": {},
   "outputs": [],
   "source": [
    "corr_matrix = df[['age', 'balance', 'day', 'duration', 'pdays', 'deposit']].corr()\n",
    "\n",
    "# Plot heatmap\n",
    "plt.figure(figsize=(10, 8))\n",
    "sns.heatmap(corr_matrix, annot=True, cmap='coolwarm', fmt=\".2f\", annot_kws={\"size\": 10})\n",
    "plt.title('Correlation Heatmap of All Columns In Dataframe')\n",
    "plt.show()"
   ]
  },
  {
   "cell_type": "markdown",
   "id": "214eb841",
   "metadata": {},
   "source": [
    "Duration: Duration of the last contact to the potential person who will make a deposit in the bank..."
   ]
  },
  {
   "cell_type": "markdown",
   "id": "edb4a410",
   "metadata": {},
   "source": [
    "## Make A decision tree with just duration"
   ]
  },
  {
   "cell_type": "code",
   "execution_count": null,
   "id": "f05e2b29",
   "metadata": {},
   "outputs": [],
   "source": [
    "treeclf = DecisionTreeClassifier(max_depth=2, random_state=1)\n",
    "treeclf.fit(X[[\"duration\"]].values, y)\n",
    "classNames = y.unique().astype(str)\n",
    "dot = tree.export_graphviz(treeclf, out_file=None,\n",
    "                           feature_names=X[[\"duration\"]].columns,\n",
    "                           class_names=classNames, \n",
    "                           filled = True)\n",
    "# display the graph here\n",
    "graph = Source(dot)\n",
    "svg = SVG(graph.pipe(format='svg'))\n",
    "display(svg)"
   ]
  },
  {
   "cell_type": "code",
   "execution_count": null,
   "id": "fb46e9aa",
   "metadata": {},
   "outputs": [],
   "source": []
  }
 ],
 "metadata": {
  "kernelspec": {
   "display_name": "Python 3 (ipykernel)",
   "language": "python",
   "name": "python3"
  },
  "language_info": {
   "codemirror_mode": {
    "name": "ipython",
    "version": 3
   },
   "file_extension": ".py",
   "mimetype": "text/x-python",
   "name": "python",
   "nbconvert_exporter": "python",
   "pygments_lexer": "ipython3",
   "version": "3.9.12"
  }
 },
 "nbformat": 4,
 "nbformat_minor": 5
}
